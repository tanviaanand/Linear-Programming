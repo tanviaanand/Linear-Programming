{
 "cells": [
  {
   "cell_type": "markdown",
   "metadata": {},
   "source": [
    "Part one: Matrix Generator with upper bound, lower bound, and density factor rho where 0 < rho <= 1. If rho = 0.4, this means that \n",
    "there is a 0.4 probability that any element aij will not be zero or that on average, 4 out of 10 elements will \n",
    "be nonzero."
   ]
  },
  {
   "cell_type": "code",
   "execution_count": 13,
   "metadata": {},
   "outputs": [],
   "source": [
    "import numpy as np"
   ]
  },
  {
   "cell_type": "code",
   "execution_count": 15,
   "metadata": {},
   "outputs": [],
   "source": [
    "a_n = 10\n",
    "a_m = 10\n",
    "a_lower_bound = -10\n",
    "a_upper_bound = 30\n",
    "a_rho = 0.6"
   ]
  },
  {
   "cell_type": "code",
   "execution_count": 16,
   "metadata": {},
   "outputs": [],
   "source": [
    "b_n = 10\n",
    "b_m = 10\n",
    "b_lower_bound = 0\n",
    "b_upper_bound = 50\n",
    "b_rho = 0.8"
   ]
  },
  {
   "cell_type": "code",
   "execution_count": 17,
   "metadata": {},
   "outputs": [],
   "source": [
    "# Part one \n",
    "# define a function to generate random matrix\n",
    "def matrix_gen(n,m,L,U,rho):                           \n",
    "    # n: number of rows\n",
    "    # m: number of columns\n",
    "    # L,U: Lower bound and Upper bound\n",
    "    # df: density factor\n",
    "\n",
    "    A = np.zeros((n,m))                     \n",
    "\n",
    "    for i in range(n):\n",
    "        for j in range(m):\n",
    "            # for each element, generate random number to decide whether to set thie element to be zero\n",
    "            alpha = np.random.uniform(0,1,1)            \n",
    "            if alpha >= rho:\n",
    "                A[i,j]=0\n",
    "            else:\n",
    "                # if the element is not zero, generate a number between L and U                                       \n",
    "                A[i,j]=np.random.uniform(L,U,1)\n",
    "    return A"
   ]
  },
  {
   "cell_type": "code",
   "execution_count": 18,
   "metadata": {},
   "outputs": [],
   "source": [
    "# generate matrix a\n",
    "a = matrix_gen(a_n, a_m, a_lower_bound, a_upper_bound, a_rho)       \n",
    "# ensure none of rows or clumns has all zeros\n",
    "while np.any([np.all((a==0),axis=0),np.all((a==0),axis=1)]):\n",
    "    a = matrix_gen(a_n, a_m, a_lower_bound, a_upper_bound, a_rho)  "
   ]
  },
  {
   "cell_type": "code",
   "execution_count": 19,
   "metadata": {},
   "outputs": [],
   "source": [
    "# generate matrix b\n",
    "b = matrix_gen(b_n, b_m, b_lower_bound, b_upper_bound, b_rho)       \n",
    "# ensure none of rows or clumns has all zeros\n",
    "while np.any([np.all((b==0),axis=0),np.all((b==0),axis=1)]):\n",
    "    b = matrix_gen(b_n, b_m, b_lower_bound, b_upper_bound, b_rho)  "
   ]
  },
  {
   "cell_type": "code",
   "execution_count": 20,
   "metadata": {},
   "outputs": [
    {
     "data": {
      "text/plain": [
       "array([[28.56382071,  0.        , 19.71544696,  3.25229315,  0.        ,\n",
       "         0.        ,  0.        ,  2.59135633,  9.78626572,  0.        ],\n",
       "       [10.61170029, -4.11922057,  0.        ,  0.        ,  0.        ,\n",
       "         2.78786235, 20.09038328, -6.66851269,  0.        ,  0.        ],\n",
       "       [ 9.30016457,  0.        , 20.13083836,  5.38631584, 23.35525389,\n",
       "        18.58915834,  3.48774702, -7.66755507, 28.30348905,  3.3380529 ],\n",
       "       [ 0.        ,  0.        ,  0.11331903,  7.77030518, -8.78070555,\n",
       "        17.01025615,  0.        , 20.3647978 , 23.67351479, 13.38176508],\n",
       "       [ 1.14214417,  9.2800999 , 14.74007332, 16.953274  ,  0.        ,\n",
       "         5.55073885, -6.08551487,  0.        , 27.41879581,  2.89537703],\n",
       "       [ 6.21454003, 26.82845725,  0.        ,  7.83428992,  0.        ,\n",
       "         5.40807681,  0.        , 10.50244419,  0.        , -1.68431878],\n",
       "       [ 0.        , 18.06172026,  0.        ,  0.        , 29.3537672 ,\n",
       "        -2.43683772,  6.28474011, -5.68241402, 21.5306247 , 18.72050614],\n",
       "       [-0.20818661, 14.78402926, 19.24373923,  0.        ,  0.        ,\n",
       "         0.        ,  0.        , 21.09699752,  0.        ,  0.        ],\n",
       "       [ 0.        , -9.30636443,  0.        ,  0.        ,  0.        ,\n",
       "        -8.71815187,  0.        ,  3.15256429,  0.        , 13.38603516],\n",
       "       [-7.208321  , 26.86556681, -8.01464324,  0.        ,  0.39145812,\n",
       "         1.92314803,  0.        , 12.97926755, 28.45140642,  6.89537727]])"
      ]
     },
     "execution_count": 20,
     "metadata": {},
     "output_type": "execute_result"
    }
   ],
   "source": [
    "a"
   ]
  },
  {
   "cell_type": "code",
   "execution_count": 21,
   "metadata": {},
   "outputs": [
    {
     "data": {
      "text/plain": [
       "array([[20.653558  , 39.04806438, 40.01015698, 45.57562104, 23.1789248 ,\n",
       "         0.        , 44.41708051, 35.62135694, 45.32095993, 38.11422332],\n",
       "       [43.9973588 , 34.3180225 , 36.06404764, 30.26367736,  8.67720622,\n",
       "        23.41552248, 49.74813996, 18.96109265,  1.13311816, 43.84083035],\n",
       "       [ 2.92662335, 40.30694387, 19.97418114, 11.776568  , 18.05849404,\n",
       "        32.06507612,  0.        ,  0.21413226, 28.98873481,  0.        ],\n",
       "       [32.13523853,  9.56951969,  0.        ,  6.54008876, 13.10635054,\n",
       "        27.42469766,  9.09797195,  4.07721595, 45.64186487, 14.34670039],\n",
       "       [27.17479184, 46.15032217,  0.        ,  0.        , 10.86609718,\n",
       "         8.03818793,  5.2667385 ,  0.        ,  5.20742536,  0.        ],\n",
       "       [42.00261302, 38.22000623,  0.        ,  0.        , 31.09282304,\n",
       "        18.83524687, 13.91120991, 27.53477798, 24.05650419,  4.06425444],\n",
       "       [35.97148431,  0.        ,  5.03847043, 15.48965772,  8.37722661,\n",
       "        41.59008714, 48.07133662, 21.52515604, 12.44108959,  1.58640914],\n",
       "       [12.24808346, 41.05603265,  7.57404798, 48.21262559, 41.54014104,\n",
       "        21.21238497, 30.76291376, 24.84611364, 45.97375523, 16.50833412],\n",
       "       [24.78451554, 22.65220079, 24.70935062,  0.        ,  4.46959923,\n",
       "        14.82033686,  3.92751976, 16.33005097, 43.86739243,  3.53714077],\n",
       "       [29.84015984, 12.92183245,  0.        ,  0.        , 27.07803152,\n",
       "        19.43284484, 31.67739896,  7.71000499, 12.88159891, 12.17637107]])"
      ]
     },
     "execution_count": 21,
     "metadata": {},
     "output_type": "execute_result"
    }
   ],
   "source": [
    "b"
   ]
  },
  {
   "cell_type": "markdown",
   "metadata": {},
   "source": [
    "Part two: Matrix inversion using Gauss Jordan Elimination"
   ]
  },
  {
   "cell_type": "code",
   "execution_count": 22,
   "metadata": {},
   "outputs": [],
   "source": [
    "def calculate_inverse(a):\n",
    "    # check if the rows are linearly independent\n",
    "    lambdas, V =  np.linalg.eig(a.T)\n",
    "    if (lambdas==0).any():\n",
    "        print('infinite solutions or no solution')\n",
    "        return\n",
    "    a = np.pad(a, [(0, 0), (0, m)], mode='constant').astype(float)\n",
    "\n",
    "    # Identity Matrix of order n\n",
    "    for i in range(n):        \n",
    "        for j in range(n):\n",
    "            if i == j:\n",
    "                a[i][j+n] = 1\n",
    "\n",
    "    # Apply Guass Jordan Elimination\n",
    "    for i in range(n):\n",
    "        for j in range(n):\n",
    "            r = a[j][i]/a[i][i]\n",
    "            if i != j:\n",
    "                for k in range(2*n):\n",
    "                    a[j][k] = a[j][k] - r*a[i][k]\n",
    "\n",
    "    # Make principal diagonal element to 1\n",
    "    for i in range(n):\n",
    "        for j in range(2*n):\n",
    "            a[i][j] = a[i][j]/a[i][i]\n",
    "\n",
    "    # Displaying Inverse Matrix\n",
    "    for i in range(n):\n",
    "        for j in range(n, 2*n):\n",
    "            print(a[i][j], end='\\t')\n",
    "        print()"
   ]
  },
  {
   "cell_type": "code",
   "execution_count": 23,
   "metadata": {},
   "outputs": [
    {
     "name": "stdout",
     "output_type": "stream",
     "text": [
      "-2.768238946175226\t1.4786615782427717\t-1.9562402069660874\t-1.2409033978727506\t-0.053229848186659046\t-1.0793447216921417\t-0.8739540850064039\t2.6156039942822917\t3.2820826563378196\t0.7778280163413601\t\n",
      "-4.089884470595523\t2.0948784783001146\t-2.6388409334497447\t-1.8978965734004525\t-1.3708635903862172\t-1.5884071723954574\t-1.3149583770407234\t3.8756954843495377\t4.778210744636955\t1.5545998357012074\t\n",
      "2.2586780946685425\t-1.2837215020201047\t1.1765222542902412\t1.5752615449955059\t0.47718034684994026\t1.0769185477617416\t0.8521954548303334\t-2.104189159315811\t-3.1006695583552104\t-1.0210586817758804\t\n",
      "-3.2700397137801596\t1.7680388991312985\t-2.1646786502508575\t-1.498471843387576\t-0.1480440290337507\t-1.4797206117905373\t-0.9008575498332443\t3.5747430482082923\t3.5522388584219\t0.3684287580753132\t\n",
      "2.8126195208287568\t-1.371765107220464\t1.4622666701031468\t1.7047090750558342\t0.7636392188118624\t0.883258170628888\t1.2802257976455158\t-2.797439759809637\t-3.137758000438997\t-1.6309804695451406\t\n",
      "-2.5957344352545384\t1.0903032928278618\t-3.2793574203870524\t-2.184978083101563\t0.7240691814431283\t-2.0954422604640643\t-1.4956850861295816\t3.34731403251239\t4.541629653362207\t1.8107236711377046\t\n",
      "2.744473534182969\t-1.6578356789908573\t1.2430545117202028\t0.8387362081600249\t0.8991355253985169\t0.09079138107152349\t1.2554002939897504\t-2.374459518448916\t-2.5572737999930157\t0.1583024370407978\t\n",
      "-0.7948445487216609\t0.3687224039462078\t-0.4768976821407629\t-0.3466587881474962\t0.13026704702447103\t-0.6599256395619273\t-0.3069386278288183\t0.7820443115137672\t0.957254358692107\t0.4907898881166797\t\n",
      "-4.683899581217984\t3.369197254952794\t-1.846748451371012\t-3.216676659923463\t-1.2227162279203174\t-0.11570326570718437\t-1.4032835605459324\t3.651106387678394\t3.3267043046414946\t0.6257372928537462\t\n",
      "-2.7632626236955335\t0.9844382988375475\t-1.805701621942851\t-1.9715670974986033\t0.18189613398324678\t-1.4898933584283043\t-0.4702111375641409\t2.8537605403518453\t3.718340478046777\t1.0\t\n"
     ]
    }
   ],
   "source": [
    "calculate_inverse(b)\n"
   ]
  },
  {
   "cell_type": "code",
   "execution_count": null,
   "metadata": {},
   "outputs": [],
   "source": []
  }
 ],
 "metadata": {
  "kernelspec": {
   "display_name": "Python 3.9.13 64-bit",
   "language": "python",
   "name": "python3"
  },
  "language_info": {
   "codemirror_mode": {
    "name": "ipython",
    "version": 3
   },
   "file_extension": ".py",
   "mimetype": "text/x-python",
   "name": "python",
   "nbconvert_exporter": "python",
   "pygments_lexer": "ipython3",
   "version": "3.9.13"
  },
  "orig_nbformat": 4,
  "vscode": {
   "interpreter": {
    "hash": "b0fa6594d8f4cbf19f97940f81e996739fb7646882a419484c72d19e05852a7e"
   }
  }
 },
 "nbformat": 4,
 "nbformat_minor": 2
}
